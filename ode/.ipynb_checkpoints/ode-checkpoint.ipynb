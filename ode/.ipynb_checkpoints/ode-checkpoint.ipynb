{
 "cells": [
  {
   "cell_type": "code",
   "execution_count": null,
   "id": "945824fd",
   "metadata": {},
   "outputs": [],
   "source": [
    "import numpy as np"
   ]
  },
  {
   "cell_type": "code",
   "execution_count": null,
   "id": "f0223954",
   "metadata": {},
   "outputs": [],
   "source": [
    "def metodo_euler(_a, _b, _h, _x_inicial):\n",
    "    #a = inicio del lapso\n",
    "    #b = final del lapso\n",
    "    #h = esparcimiento\n",
    "    #x_inicial = valor inicial de x\n",
    "    \n",
    "    #generar un arreglos que inice en a, temine en b y que tenga esparcimiento equidistante\n",
    "    t = np.arange(_a, _b, _h)\n",
    "    #crear un arreglo de ceros para x de la misma longitud de t\n",
    "    x = np.zeros(len(t))\n",
    "    t[0] = _a\n",
    "    x[0] = _x_inicial\n",
    "    \n",
    "    f_ode = funcion_ode(t, x)\n",
    "    \n",
    "    for i in range(0, len(t) - 1):\n",
    "        x[i + 1] = x[i] + _h*f_ode(t[i],x[i])\n",
    "    return x, t"
   ]
  },
  {
   "cell_type": "code",
   "execution_count": null,
   "id": "0645e30a",
   "metadata": {},
   "outputs": [],
   "source": [
    "def runge_kutta_2(_a, _b, _h, _x_inicial):\n",
    "    #a = inicio del lapso\n",
    "    #b = final del lapso\n",
    "    #h = esparcimiento\n",
    "    #x_inicial = valor inicial de x\n",
    "    \n",
    "    #generar un arreglos que inice en a, temine en b y que tenga esparcimiento equidistante\n",
    "    t = np.arange(_a, _b, _h)\n",
    "    #crear un arreglo de ceros para x de la misma longitud de t\n",
    "    x = np.zeros(len(t))\n",
    "    t[0] = _a\n",
    "    x[0] = _x_inicial\n",
    "    \n",
    "    f_ode = funcion_ode(t, x)\n",
    "\n",
    "    for i in range(0, len(t) - 1):\n",
    "        k_1 = h * f_ode(t[i], x[i])\n",
    "        k_2 = h * f_ode((t[i] + h*0.5), (x[i] + k_1*0.5))\n",
    "        \n",
    "        x[i + 1] = x[i] + k_2\n",
    "        \n",
    "    return x, t"
   ]
  },
  {
   "cell_type": "code",
   "execution_count": null,
   "id": "d57e1ad9",
   "metadata": {},
   "outputs": [],
   "source": [
    "def runge_kutta_4(_a, _b, _h, _x_inicial):\n",
    "    #a = inicio del lapso\n",
    "    #b = final del lapso\n",
    "    #h = esparcimiento\n",
    "    #x_inicial = valor inicial de x\n",
    "    \n",
    "    #generar un arreglos que inice en a, temine en b y que tenga esparcimiento equidistante\n",
    "    t = np.arange(_a, _b, _h)\n",
    "    #crear un arreglo de ceros para x de la misma longitud de t\n",
    "    x = np.zeros(len(t))\n",
    "    t[0] = _a\n",
    "    x[0] = _x_inicial\n",
    "    \n",
    "    f_ode = funcion_ode(t, x)\n",
    "\n",
    "    for i in range(0, len(t) - 1):\n",
    "        k_1 = h * f_ode(t[i], x[i])\n",
    "        k_2 = h * f_ode((t[i] + h/2), (x[i] + h*k_1/2))\n",
    "        k_3 = h * f_ode((t[i] + h/2), (x[i] + h*k_2/2))\n",
    "        k_4 = h * f_ode((t[i] +h), (x[i] + h*k_3))\n",
    "        x[i + 1] = x[i] + (k_1 + 2*K_2 + 2*k_3 +k_4)*h/6\n",
    "        \n",
    "    return x, t"
   ]
  }
 ],
 "metadata": {
  "kernelspec": {
   "display_name": "Python 3 (ipykernel)",
   "language": "python",
   "name": "python3"
  },
  "language_info": {
   "codemirror_mode": {
    "name": "ipython",
    "version": 3
   },
   "file_extension": ".py",
   "mimetype": "text/x-python",
   "name": "python",
   "nbconvert_exporter": "python",
   "pygments_lexer": "ipython3",
   "version": "3.9.16"
  }
 },
 "nbformat": 4,
 "nbformat_minor": 5
}
